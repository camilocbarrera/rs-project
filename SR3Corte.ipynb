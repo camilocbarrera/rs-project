{
 "cells": [
  {
   "cell_type": "code",
   "execution_count": 2,
   "id": "ff6b078a",
   "metadata": {
    "pycharm": {
     "name": "#%%\n"
    }
   },
   "outputs": [],
   "source": [
    "import pandas as pd\n",
    "import os"
   ]
  },
  {
   "cell_type": "code",
   "execution_count": 19,
   "id": "311d65e8",
   "metadata": {
    "pycharm": {
     "name": "#%%\n"
    }
   },
   "outputs": [
    {
     "data": {
      "text/plain": "   artist                                      song  \\\n0    ABBA                     Ahe's My Kind Of Girl   \n1    ABBA                          Andante, Andante   \n2    ABBA                            As Good As New   \n3    ABBA                                      Bang   \n4    ABBA                          Bang-A-Boomerang   \n5    ABBA                        Burning My Bridges   \n6    ABBA                                 Cassandra   \n7    ABBA                                Chiquitita   \n8    ABBA                               Crazy World   \n9    ABBA                           Crying Over You   \n10   ABBA                                     Dance   \n11   ABBA                             Dancing Queen   \n12   ABBA                               Disillusion   \n13   ABBA                     Does Your Mother Know   \n14   ABBA                               Dream World   \n15   ABBA                            Dum Dum Diddle   \n16   ABBA                                     Eagle   \n17   ABBA                            Every Good Man   \n18   ABBA                                  Fernando   \n19   ABBA                     Fernando (In Spanish)   \n20   ABBA                      Free As A Bumble Bee   \n21   ABBA  From A Twinkling Star To A Passing Angel   \n22   ABBA                         Gimme Gimme Gimme   \n23   ABBA                  Givin' A Little Bit More   \n24   ABBA                Gonna Sing You My Lovesong   \n25   ABBA                                Hamlet III   \n26   ABBA                              Happy Hawaii   \n27   ABBA                            Happy New Year   \n28   ABBA                        He Is Your Brother   \n29   ABBA                           Head Over Heels   \n30   ABBA                           Here We'll Stay   \n31   ABBA                             Hey Hey Helen   \n32   ABBA                         Hole In Your Soul   \n33   ABBA                              Honey, Honey   \n34   ABBA                          I Am Just A Girl   \n35   ABBA                             I Am The City   \n36   ABBA              I Do, I Do, I Do, I Do, I Do   \n37   ABBA                            I Have A Dream   \n38   ABBA                     I Let The Music Speak   \n39   ABBA                    I Saw It In The Mirror   \n40   ABBA                      I Wonder (Departure)   \n41   ABBA               I Wonder (Departure) [Live]   \n42   ABBA               If It Wasn't For The Nights   \n43   ABBA                          I'm A Marionette   \n44   ABBA                 I've Been Waiting For You   \n45   ABBA                             Juper Jrouper   \n46   ABBA                             Just A Notion   \n47   ABBA                            King Kong Song   \n48   ABBA                            Kisses Of Fire   \n49   ABBA                    Knowing Me Knowing You   \n\n                                                 link  \\\n0          /a/abba/ahes+my+kind+of+girl_20598417.html   \n1               /a/abba/andante+andante_20002708.html   \n2                /a/abba/as+good+as+new_20003033.html   \n3                          /a/abba/bang_20598415.html   \n4              /a/abba/bang+a+boomerang_20002668.html   \n5            /a/abba/burning+my+bridges_20003011.html   \n6                     /a/abba/cassandra_20002811.html   \n7                    /a/abba/chiquitita_20002978.html   \n8                   /a/abba/crazy+world_20003013.html   \n9               /a/abba/crying+over+you_20177611.html   \n10                        /a/abba/dance_10001507.html   \n11                /a/abba/dancing+queen_20002554.html   \n12                  /a/abba/disillusion_20002786.html   \n13        /a/abba/does+your+mother+know_20003035.html   \n14                  /a/abba/dream+world_20003014.html   \n15               /a/abba/dum+dum+diddle_20002555.html   \n16                        /a/abba/eagle_20002818.html   \n17               /a/abba/every+good+man_20336091.html   \n18                     /a/abba/fernando_20002896.html   \n19          /a/abba/fernando+in+spanish_20930420.html   \n20         /a/abba/free+as+a+bumble+bee_20003016.html   \n21  /a/abba/from+a+twinkling+star+to+a+passing+ang...   \n22            /a/abba/gimme+gimme+gimme_10001506.html   \n23      /a/abba/givin+a+little+bit+more_20003017.html   \n24   /a/abba/gonna+sing+you+my+lovesong_20002968.html   \n25                   /a/abba/hamlet+iii_20598413.html   \n26                 /a/abba/happy+hawaii_20002727.html   \n27               /a/abba/happy+new+year_20002925.html   \n28           /a/abba/he+is+your+brother_20002698.html   \n29              /a/abba/head+over+heels_20002768.html   \n30               /a/abba/here+well+stay_20598412.html   \n31                /a/abba/hey+hey+helen_20002518.html   \n32            /a/abba/hole+in+your+soul_20002873.html   \n33                  /a/abba/honey+honey_20003047.html   \n34             /a/abba/i+am+just+a+girl_20002700.html   \n35                /a/abba/i+am+the+city_20003020.html   \n36     /a/abba/i+do+i+do+i+do+i+do+i+do_20002884.html   \n37               /a/abba/i+have+a+dream_20002830.html   \n38        /a/abba/i+let+the+music+speak_20003002.html   \n39       /a/abba/i+saw+it+in+the+mirror_20002789.html   \n40           /a/abba/i+wonder+departure_20539221.html   \n41      /a/abba/i+wonder+departure+live_20960425.html   \n42   /a/abba/if+it+wasnt+for+the+nights_20003038.html   \n43              /a/abba/im+a+marionette_20002875.html   \n44     /a/abba/ive+been+waiting+for+you_20002832.html   \n45                /a/abba/juper+jrouper_20598410.html   \n46                /a/abba/just+a+notion_20226425.html   \n47               /a/abba/king+kong+song_20003048.html   \n48               /a/abba/kisses+of+fire_20002926.html   \n49       /a/abba/knowing+me+knowing+you_20002654.html   \n\n                                                 text  \n0   Look at her face, it's a wonderful face  \\nAnd...  \n1   Take it easy with me, please  \\nTouch me gentl...  \n2   I'll never know why I had to go  \\nWhy I had t...  \n3   Making somebody happy is a question of give an...  \n4   Making somebody happy is a question of give an...  \n5   Well, you hoot and you holler and you make me ...  \n6   Down in the street they're all singing and sho...  \n7   Chiquitita, tell me what's wrong  \\nYou're enc...  \n8   I was out with the morning sun  \\nCouldn't sle...  \n9   I'm waitin' for you baby  \\nI'm sitting all al...  \n10  Oh, my love it makes me sad.  \\nWhy did things...  \n11  You can dance, you can jive, having the time o...  \n12  Changing, moving in a circle  \\nI can see your...  \n13  You're so hot, teasing me  \\nSo you're blue bu...  \n14  Agnetha We're not the stars of a Hollywood mov...  \n15  I can hear how you work, practising hard  \\nPl...  \n16  They came flying from far away, now I'm under ...  \n17  Every good man needs a helping hand  \\nso I tr...  \n18  Can you hear the drums Fernando?  \\nI remember...  \n19  Puedes escuchar Fernando?  \\nMe recuerda tiemp...  \n20  I'm down and I feel depressed  \\nSitting here ...  \n21  Twinkle, Twinkle little star  \\nHow I wonder w...  \n22  Half past twelve  \\nAnd I'm watching the late ...  \n23  There's a gentleness to everything you do  \\nA...  \n24  You say she's been mad at you  \\nThen you say ...  \n25  When the autumn leaves are falling to the grou...  \n26  Agnetha, Frida Early this morning I drove in t...  \n27  No more champagne  \\nAnd the fireworks are thr...  \n28  Benny I was a fighter, always looking for trou...  \n29  I have a very good friend  \\nThe kind of girl ...  \n30  Love, love is a dream  \\nWe were like two youn...  \n31  So at last you're free  \\nIt's the way you wan...  \n32  You feel bad, let me tell you, we all get the ...  \n33  Honey honey, how you thrills me, ah-hah, honey...  \n34  I am just a girl  \\nOne among the others, noth...  \n35  i am the city, you let me be  \\ni am the city ...  \n36  Love me or leave me  \\nMake your choice but be...  \n37  I have a dream, a song to sing  \\nTo help me c...  \n38  I'm hearing images, I'm seeing songs  \\nNo poe...  \n39  I saw it in the mirror  \\nI saw it in my face ...  \n40  This park and these houses, old streets I have...  \n41  This park and these houses  \\nOld streets I ha...  \n42  I got appointments, work I have to do  \\nKeepi...  \n43  You're so free  \\nThat's what everybody's tell...  \n44  I, I've been in love before  \\nI thought I wou...  \n45  Super Trooper beams are gonna blind me  \\nBut ...  \n46  Just a notion that's all  \\nJust a feeling tha...  \n47  Well I was looking at a movie on the TV last n...  \n48  Lay your head on my chest so you hear every be...  \n49  No more carefree laughter  \\nSilence ever afte...  ",
      "text/html": "<div>\n<style scoped>\n    .dataframe tbody tr th:only-of-type {\n        vertical-align: middle;\n    }\n\n    .dataframe tbody tr th {\n        vertical-align: top;\n    }\n\n    .dataframe thead th {\n        text-align: right;\n    }\n</style>\n<table border=\"1\" class=\"dataframe\">\n  <thead>\n    <tr style=\"text-align: right;\">\n      <th></th>\n      <th>artist</th>\n      <th>song</th>\n      <th>link</th>\n      <th>text</th>\n    </tr>\n  </thead>\n  <tbody>\n    <tr>\n      <th>0</th>\n      <td>ABBA</td>\n      <td>Ahe's My Kind Of Girl</td>\n      <td>/a/abba/ahes+my+kind+of+girl_20598417.html</td>\n      <td>Look at her face, it's a wonderful face  \\nAnd...</td>\n    </tr>\n    <tr>\n      <th>1</th>\n      <td>ABBA</td>\n      <td>Andante, Andante</td>\n      <td>/a/abba/andante+andante_20002708.html</td>\n      <td>Take it easy with me, please  \\nTouch me gentl...</td>\n    </tr>\n    <tr>\n      <th>2</th>\n      <td>ABBA</td>\n      <td>As Good As New</td>\n      <td>/a/abba/as+good+as+new_20003033.html</td>\n      <td>I'll never know why I had to go  \\nWhy I had t...</td>\n    </tr>\n    <tr>\n      <th>3</th>\n      <td>ABBA</td>\n      <td>Bang</td>\n      <td>/a/abba/bang_20598415.html</td>\n      <td>Making somebody happy is a question of give an...</td>\n    </tr>\n    <tr>\n      <th>4</th>\n      <td>ABBA</td>\n      <td>Bang-A-Boomerang</td>\n      <td>/a/abba/bang+a+boomerang_20002668.html</td>\n      <td>Making somebody happy is a question of give an...</td>\n    </tr>\n    <tr>\n      <th>5</th>\n      <td>ABBA</td>\n      <td>Burning My Bridges</td>\n      <td>/a/abba/burning+my+bridges_20003011.html</td>\n      <td>Well, you hoot and you holler and you make me ...</td>\n    </tr>\n    <tr>\n      <th>6</th>\n      <td>ABBA</td>\n      <td>Cassandra</td>\n      <td>/a/abba/cassandra_20002811.html</td>\n      <td>Down in the street they're all singing and sho...</td>\n    </tr>\n    <tr>\n      <th>7</th>\n      <td>ABBA</td>\n      <td>Chiquitita</td>\n      <td>/a/abba/chiquitita_20002978.html</td>\n      <td>Chiquitita, tell me what's wrong  \\nYou're enc...</td>\n    </tr>\n    <tr>\n      <th>8</th>\n      <td>ABBA</td>\n      <td>Crazy World</td>\n      <td>/a/abba/crazy+world_20003013.html</td>\n      <td>I was out with the morning sun  \\nCouldn't sle...</td>\n    </tr>\n    <tr>\n      <th>9</th>\n      <td>ABBA</td>\n      <td>Crying Over You</td>\n      <td>/a/abba/crying+over+you_20177611.html</td>\n      <td>I'm waitin' for you baby  \\nI'm sitting all al...</td>\n    </tr>\n    <tr>\n      <th>10</th>\n      <td>ABBA</td>\n      <td>Dance</td>\n      <td>/a/abba/dance_10001507.html</td>\n      <td>Oh, my love it makes me sad.  \\nWhy did things...</td>\n    </tr>\n    <tr>\n      <th>11</th>\n      <td>ABBA</td>\n      <td>Dancing Queen</td>\n      <td>/a/abba/dancing+queen_20002554.html</td>\n      <td>You can dance, you can jive, having the time o...</td>\n    </tr>\n    <tr>\n      <th>12</th>\n      <td>ABBA</td>\n      <td>Disillusion</td>\n      <td>/a/abba/disillusion_20002786.html</td>\n      <td>Changing, moving in a circle  \\nI can see your...</td>\n    </tr>\n    <tr>\n      <th>13</th>\n      <td>ABBA</td>\n      <td>Does Your Mother Know</td>\n      <td>/a/abba/does+your+mother+know_20003035.html</td>\n      <td>You're so hot, teasing me  \\nSo you're blue bu...</td>\n    </tr>\n    <tr>\n      <th>14</th>\n      <td>ABBA</td>\n      <td>Dream World</td>\n      <td>/a/abba/dream+world_20003014.html</td>\n      <td>Agnetha We're not the stars of a Hollywood mov...</td>\n    </tr>\n    <tr>\n      <th>15</th>\n      <td>ABBA</td>\n      <td>Dum Dum Diddle</td>\n      <td>/a/abba/dum+dum+diddle_20002555.html</td>\n      <td>I can hear how you work, practising hard  \\nPl...</td>\n    </tr>\n    <tr>\n      <th>16</th>\n      <td>ABBA</td>\n      <td>Eagle</td>\n      <td>/a/abba/eagle_20002818.html</td>\n      <td>They came flying from far away, now I'm under ...</td>\n    </tr>\n    <tr>\n      <th>17</th>\n      <td>ABBA</td>\n      <td>Every Good Man</td>\n      <td>/a/abba/every+good+man_20336091.html</td>\n      <td>Every good man needs a helping hand  \\nso I tr...</td>\n    </tr>\n    <tr>\n      <th>18</th>\n      <td>ABBA</td>\n      <td>Fernando</td>\n      <td>/a/abba/fernando_20002896.html</td>\n      <td>Can you hear the drums Fernando?  \\nI remember...</td>\n    </tr>\n    <tr>\n      <th>19</th>\n      <td>ABBA</td>\n      <td>Fernando (In Spanish)</td>\n      <td>/a/abba/fernando+in+spanish_20930420.html</td>\n      <td>Puedes escuchar Fernando?  \\nMe recuerda tiemp...</td>\n    </tr>\n    <tr>\n      <th>20</th>\n      <td>ABBA</td>\n      <td>Free As A Bumble Bee</td>\n      <td>/a/abba/free+as+a+bumble+bee_20003016.html</td>\n      <td>I'm down and I feel depressed  \\nSitting here ...</td>\n    </tr>\n    <tr>\n      <th>21</th>\n      <td>ABBA</td>\n      <td>From A Twinkling Star To A Passing Angel</td>\n      <td>/a/abba/from+a+twinkling+star+to+a+passing+ang...</td>\n      <td>Twinkle, Twinkle little star  \\nHow I wonder w...</td>\n    </tr>\n    <tr>\n      <th>22</th>\n      <td>ABBA</td>\n      <td>Gimme Gimme Gimme</td>\n      <td>/a/abba/gimme+gimme+gimme_10001506.html</td>\n      <td>Half past twelve  \\nAnd I'm watching the late ...</td>\n    </tr>\n    <tr>\n      <th>23</th>\n      <td>ABBA</td>\n      <td>Givin' A Little Bit More</td>\n      <td>/a/abba/givin+a+little+bit+more_20003017.html</td>\n      <td>There's a gentleness to everything you do  \\nA...</td>\n    </tr>\n    <tr>\n      <th>24</th>\n      <td>ABBA</td>\n      <td>Gonna Sing You My Lovesong</td>\n      <td>/a/abba/gonna+sing+you+my+lovesong_20002968.html</td>\n      <td>You say she's been mad at you  \\nThen you say ...</td>\n    </tr>\n    <tr>\n      <th>25</th>\n      <td>ABBA</td>\n      <td>Hamlet III</td>\n      <td>/a/abba/hamlet+iii_20598413.html</td>\n      <td>When the autumn leaves are falling to the grou...</td>\n    </tr>\n    <tr>\n      <th>26</th>\n      <td>ABBA</td>\n      <td>Happy Hawaii</td>\n      <td>/a/abba/happy+hawaii_20002727.html</td>\n      <td>Agnetha, Frida Early this morning I drove in t...</td>\n    </tr>\n    <tr>\n      <th>27</th>\n      <td>ABBA</td>\n      <td>Happy New Year</td>\n      <td>/a/abba/happy+new+year_20002925.html</td>\n      <td>No more champagne  \\nAnd the fireworks are thr...</td>\n    </tr>\n    <tr>\n      <th>28</th>\n      <td>ABBA</td>\n      <td>He Is Your Brother</td>\n      <td>/a/abba/he+is+your+brother_20002698.html</td>\n      <td>Benny I was a fighter, always looking for trou...</td>\n    </tr>\n    <tr>\n      <th>29</th>\n      <td>ABBA</td>\n      <td>Head Over Heels</td>\n      <td>/a/abba/head+over+heels_20002768.html</td>\n      <td>I have a very good friend  \\nThe kind of girl ...</td>\n    </tr>\n    <tr>\n      <th>30</th>\n      <td>ABBA</td>\n      <td>Here We'll Stay</td>\n      <td>/a/abba/here+well+stay_20598412.html</td>\n      <td>Love, love is a dream  \\nWe were like two youn...</td>\n    </tr>\n    <tr>\n      <th>31</th>\n      <td>ABBA</td>\n      <td>Hey Hey Helen</td>\n      <td>/a/abba/hey+hey+helen_20002518.html</td>\n      <td>So at last you're free  \\nIt's the way you wan...</td>\n    </tr>\n    <tr>\n      <th>32</th>\n      <td>ABBA</td>\n      <td>Hole In Your Soul</td>\n      <td>/a/abba/hole+in+your+soul_20002873.html</td>\n      <td>You feel bad, let me tell you, we all get the ...</td>\n    </tr>\n    <tr>\n      <th>33</th>\n      <td>ABBA</td>\n      <td>Honey, Honey</td>\n      <td>/a/abba/honey+honey_20003047.html</td>\n      <td>Honey honey, how you thrills me, ah-hah, honey...</td>\n    </tr>\n    <tr>\n      <th>34</th>\n      <td>ABBA</td>\n      <td>I Am Just A Girl</td>\n      <td>/a/abba/i+am+just+a+girl_20002700.html</td>\n      <td>I am just a girl  \\nOne among the others, noth...</td>\n    </tr>\n    <tr>\n      <th>35</th>\n      <td>ABBA</td>\n      <td>I Am The City</td>\n      <td>/a/abba/i+am+the+city_20003020.html</td>\n      <td>i am the city, you let me be  \\ni am the city ...</td>\n    </tr>\n    <tr>\n      <th>36</th>\n      <td>ABBA</td>\n      <td>I Do, I Do, I Do, I Do, I Do</td>\n      <td>/a/abba/i+do+i+do+i+do+i+do+i+do_20002884.html</td>\n      <td>Love me or leave me  \\nMake your choice but be...</td>\n    </tr>\n    <tr>\n      <th>37</th>\n      <td>ABBA</td>\n      <td>I Have A Dream</td>\n      <td>/a/abba/i+have+a+dream_20002830.html</td>\n      <td>I have a dream, a song to sing  \\nTo help me c...</td>\n    </tr>\n    <tr>\n      <th>38</th>\n      <td>ABBA</td>\n      <td>I Let The Music Speak</td>\n      <td>/a/abba/i+let+the+music+speak_20003002.html</td>\n      <td>I'm hearing images, I'm seeing songs  \\nNo poe...</td>\n    </tr>\n    <tr>\n      <th>39</th>\n      <td>ABBA</td>\n      <td>I Saw It In The Mirror</td>\n      <td>/a/abba/i+saw+it+in+the+mirror_20002789.html</td>\n      <td>I saw it in the mirror  \\nI saw it in my face ...</td>\n    </tr>\n    <tr>\n      <th>40</th>\n      <td>ABBA</td>\n      <td>I Wonder (Departure)</td>\n      <td>/a/abba/i+wonder+departure_20539221.html</td>\n      <td>This park and these houses, old streets I have...</td>\n    </tr>\n    <tr>\n      <th>41</th>\n      <td>ABBA</td>\n      <td>I Wonder (Departure) [Live]</td>\n      <td>/a/abba/i+wonder+departure+live_20960425.html</td>\n      <td>This park and these houses  \\nOld streets I ha...</td>\n    </tr>\n    <tr>\n      <th>42</th>\n      <td>ABBA</td>\n      <td>If It Wasn't For The Nights</td>\n      <td>/a/abba/if+it+wasnt+for+the+nights_20003038.html</td>\n      <td>I got appointments, work I have to do  \\nKeepi...</td>\n    </tr>\n    <tr>\n      <th>43</th>\n      <td>ABBA</td>\n      <td>I'm A Marionette</td>\n      <td>/a/abba/im+a+marionette_20002875.html</td>\n      <td>You're so free  \\nThat's what everybody's tell...</td>\n    </tr>\n    <tr>\n      <th>44</th>\n      <td>ABBA</td>\n      <td>I've Been Waiting For You</td>\n      <td>/a/abba/ive+been+waiting+for+you_20002832.html</td>\n      <td>I, I've been in love before  \\nI thought I wou...</td>\n    </tr>\n    <tr>\n      <th>45</th>\n      <td>ABBA</td>\n      <td>Juper Jrouper</td>\n      <td>/a/abba/juper+jrouper_20598410.html</td>\n      <td>Super Trooper beams are gonna blind me  \\nBut ...</td>\n    </tr>\n    <tr>\n      <th>46</th>\n      <td>ABBA</td>\n      <td>Just A Notion</td>\n      <td>/a/abba/just+a+notion_20226425.html</td>\n      <td>Just a notion that's all  \\nJust a feeling tha...</td>\n    </tr>\n    <tr>\n      <th>47</th>\n      <td>ABBA</td>\n      <td>King Kong Song</td>\n      <td>/a/abba/king+kong+song_20003048.html</td>\n      <td>Well I was looking at a movie on the TV last n...</td>\n    </tr>\n    <tr>\n      <th>48</th>\n      <td>ABBA</td>\n      <td>Kisses Of Fire</td>\n      <td>/a/abba/kisses+of+fire_20002926.html</td>\n      <td>Lay your head on my chest so you hear every be...</td>\n    </tr>\n    <tr>\n      <th>49</th>\n      <td>ABBA</td>\n      <td>Knowing Me Knowing You</td>\n      <td>/a/abba/knowing+me+knowing+you_20002654.html</td>\n      <td>No more carefree laughter  \\nSilence ever afte...</td>\n    </tr>\n  </tbody>\n</table>\n</div>"
     },
     "execution_count": 19,
     "metadata": {},
     "output_type": "execute_result"
    }
   ],
   "source": [
    "# #dir = '/content/songs/'\n",
    "# dir = 'C:/Users/thats/sistemasInteligentes/semantic-enrichment/'\n",
    "# os.chdir(dir)\n",
    "# os.listdir()\n",
    "songs = pd.read_csv('datasets/songdata.csv')\n",
    "\n",
    "songs.head(50)"
   ]
  },
  {
   "cell_type": "code",
   "execution_count": 4,
   "outputs": [
    {
     "data": {
      "text/plain": "(57650, 4)"
     },
     "execution_count": 4,
     "metadata": {},
     "output_type": "execute_result"
    }
   ],
   "source": [
    "songs.shape"
   ],
   "metadata": {
    "collapsed": false,
    "pycharm": {
     "name": "#%%\n"
    }
   }
  },
  {
   "cell_type": "code",
   "execution_count": 20,
   "outputs": [],
   "source": [
    "songs = songs.head(500)"
   ],
   "metadata": {
    "collapsed": false,
    "pycharm": {
     "name": "#%%\n"
    }
   }
  },
  {
   "cell_type": "code",
   "execution_count": 21,
   "outputs": [
    {
     "data": {
      "text/plain": "(500, 4)"
     },
     "execution_count": 21,
     "metadata": {},
     "output_type": "execute_result"
    }
   ],
   "source": [
    "songs.shape"
   ],
   "metadata": {
    "collapsed": false,
    "pycharm": {
     "name": "#%%\n"
    }
   }
  },
  {
   "cell_type": "code",
   "execution_count": 22,
   "outputs": [
    {
     "data": {
      "text/plain": "artist    object\nsong      object\nlink      object\ntext      object\ndtype: object"
     },
     "execution_count": 22,
     "metadata": {},
     "output_type": "execute_result"
    }
   ],
   "source": [
    "songs.dtypes"
   ],
   "metadata": {
    "collapsed": false,
    "pycharm": {
     "name": "#%%\n"
    }
   }
  },
  {
   "cell_type": "code",
   "execution_count": 23,
   "outputs": [],
   "source": [
    "songs['text'] = songs['text'].astype('string')\n",
    "songs['song'] = songs['song'].astype('string')\n",
    "songs['link'] = songs['link'].astype('string')\n",
    "songs['artist'] = songs['artist'].astype('string')"
   ],
   "metadata": {
    "collapsed": false,
    "pycharm": {
     "name": "#%%\n"
    }
   }
  },
  {
   "cell_type": "code",
   "execution_count": 24,
   "outputs": [],
   "source": [
    "from sklearn.feature_extraction.text import CountVectorizer\n",
    "cv = CountVectorizer(max_features=2000,stop_words='english')"
   ],
   "metadata": {
    "collapsed": false,
    "pycharm": {
     "name": "#%%\n"
    }
   }
  },
  {
   "cell_type": "code",
   "execution_count": 25,
   "outputs": [],
   "source": [
    "vector = cv.fit_transform(songs['text']).toarray()"
   ],
   "metadata": {
    "collapsed": false,
    "pycharm": {
     "name": "#%%\n"
    }
   }
  },
  {
   "cell_type": "code",
   "execution_count": 26,
   "outputs": [
    {
     "data": {
      "text/plain": "array([[0, 0, 0, ..., 0, 0, 0],\n       [0, 0, 0, ..., 0, 0, 0],\n       [0, 0, 0, ..., 0, 0, 0],\n       ...,\n       [0, 0, 0, ..., 0, 0, 0],\n       [0, 0, 0, ..., 0, 0, 0],\n       [0, 0, 0, ..., 0, 0, 0]])"
     },
     "execution_count": 26,
     "metadata": {},
     "output_type": "execute_result"
    }
   ],
   "source": [
    "vector"
   ],
   "metadata": {
    "collapsed": false,
    "pycharm": {
     "name": "#%%\n"
    }
   }
  },
  {
   "cell_type": "code",
   "execution_count": 27,
   "outputs": [],
   "source": [
    "from sklearn.metrics.pairwise import cosine_similarity\n"
   ],
   "metadata": {
    "collapsed": false,
    "pycharm": {
     "name": "#%%\n"
    }
   }
  },
  {
   "cell_type": "code",
   "execution_count": 28,
   "outputs": [],
   "source": [
    "similarity = cosine_similarity(vector)"
   ],
   "metadata": {
    "collapsed": false,
    "pycharm": {
     "name": "#%%\n"
    }
   }
  },
  {
   "cell_type": "code",
   "execution_count": 29,
   "outputs": [
    {
     "data": {
      "text/plain": "array([[1.00000000e+00, 1.29144519e-02, 4.04880790e-02, ...,\n        6.20221384e-02, 1.23085974e-01, 3.61072599e-03],\n       [1.29144519e-02, 1.00000000e+00, 2.95863696e-02, ...,\n        1.55390493e-02, 4.89256809e-02, 5.65395384e-04],\n       [4.04880790e-02, 2.95863696e-02, 1.00000000e+00, ...,\n        2.92298703e-02, 3.96636651e-02, 5.10500227e-02],\n       ...,\n       [6.20221384e-02, 1.55390493e-02, 2.92298703e-02, ...,\n        1.00000000e+00, 3.13289884e-02, 7.60293096e-03],\n       [1.23085974e-01, 4.89256809e-02, 3.96636651e-02, ...,\n        3.13289884e-02, 1.00000000e+00, 4.97419422e-03],\n       [3.61072599e-03, 5.65395384e-04, 5.10500227e-02, ...,\n        7.60293096e-03, 4.97419422e-03, 1.00000000e+00]])"
     },
     "execution_count": 29,
     "metadata": {},
     "output_type": "execute_result"
    }
   ],
   "source": [
    "similarity"
   ],
   "metadata": {
    "collapsed": false,
    "pycharm": {
     "name": "#%%\n"
    }
   }
  },
  {
   "cell_type": "code",
   "execution_count": 50,
   "outputs": [
    {
     "data": {
      "text/plain": "   artist                     song  \\\n0    ABBA    Ahe's My Kind Of Girl   \n1    ABBA         Andante, Andante   \n2    ABBA           As Good As New   \n3    ABBA                     Bang   \n4    ABBA         Bang-A-Boomerang   \n..    ...                      ...   \n95   ABBA     The Name Of The Game   \n96   ABBA                The Piper   \n97   ABBA             The Visitors   \n98   ABBA   The Way Old Friends Do   \n99   ABBA  The Winner Takes It All   \n\n                                             link  \\\n0      /a/abba/ahes+my+kind+of+girl_20598417.html   \n1           /a/abba/andante+andante_20002708.html   \n2            /a/abba/as+good+as+new_20003033.html   \n3                      /a/abba/bang_20598415.html   \n4          /a/abba/bang+a+boomerang_20002668.html   \n..                                            ...   \n95     /a/abba/the+name+of+the+game_20002863.html   \n96                /a/abba/the+piper_20002946.html   \n97             /a/abba/the+visitors_20002864.html   \n98   /a/abba/the+way+old+friends+do_20002573.html   \n99  /a/abba/the+winner+takes+it+all_20002664.html   \n\n                                                 text  \n0   Look at her face, it's a wonderful face  \nAnd ...  \n1   Take it easy with me, please  \nTouch me gently...  \n2   I'll never know why I had to go  \nWhy I had to...  \n3   Making somebody happy is a question of give an...  \n4   Making somebody happy is a question of give an...  \n..                                                ...  \n95  I've seen you twice, in a short time  \nOnly a ...  \n96  They came from the hills  \nAnd they came from ...  \n97  I hear the doorbell ring and suddenly the pani...  \n98  You and I can share the silence  \nFinding comf...  \n99  I don't want to talk  \nAbout the things we've ...  \n\n[100 rows x 4 columns]",
      "text/html": "<div>\n<style scoped>\n    .dataframe tbody tr th:only-of-type {\n        vertical-align: middle;\n    }\n\n    .dataframe tbody tr th {\n        vertical-align: top;\n    }\n\n    .dataframe thead th {\n        text-align: right;\n    }\n</style>\n<table border=\"1\" class=\"dataframe\">\n  <thead>\n    <tr style=\"text-align: right;\">\n      <th></th>\n      <th>artist</th>\n      <th>song</th>\n      <th>link</th>\n      <th>text</th>\n    </tr>\n  </thead>\n  <tbody>\n    <tr>\n      <th>0</th>\n      <td>ABBA</td>\n      <td>Ahe's My Kind Of Girl</td>\n      <td>/a/abba/ahes+my+kind+of+girl_20598417.html</td>\n      <td>Look at her face, it's a wonderful face  \nAnd ...</td>\n    </tr>\n    <tr>\n      <th>1</th>\n      <td>ABBA</td>\n      <td>Andante, Andante</td>\n      <td>/a/abba/andante+andante_20002708.html</td>\n      <td>Take it easy with me, please  \nTouch me gently...</td>\n    </tr>\n    <tr>\n      <th>2</th>\n      <td>ABBA</td>\n      <td>As Good As New</td>\n      <td>/a/abba/as+good+as+new_20003033.html</td>\n      <td>I'll never know why I had to go  \nWhy I had to...</td>\n    </tr>\n    <tr>\n      <th>3</th>\n      <td>ABBA</td>\n      <td>Bang</td>\n      <td>/a/abba/bang_20598415.html</td>\n      <td>Making somebody happy is a question of give an...</td>\n    </tr>\n    <tr>\n      <th>4</th>\n      <td>ABBA</td>\n      <td>Bang-A-Boomerang</td>\n      <td>/a/abba/bang+a+boomerang_20002668.html</td>\n      <td>Making somebody happy is a question of give an...</td>\n    </tr>\n    <tr>\n      <th>...</th>\n      <td>...</td>\n      <td>...</td>\n      <td>...</td>\n      <td>...</td>\n    </tr>\n    <tr>\n      <th>95</th>\n      <td>ABBA</td>\n      <td>The Name Of The Game</td>\n      <td>/a/abba/the+name+of+the+game_20002863.html</td>\n      <td>I've seen you twice, in a short time  \nOnly a ...</td>\n    </tr>\n    <tr>\n      <th>96</th>\n      <td>ABBA</td>\n      <td>The Piper</td>\n      <td>/a/abba/the+piper_20002946.html</td>\n      <td>They came from the hills  \nAnd they came from ...</td>\n    </tr>\n    <tr>\n      <th>97</th>\n      <td>ABBA</td>\n      <td>The Visitors</td>\n      <td>/a/abba/the+visitors_20002864.html</td>\n      <td>I hear the doorbell ring and suddenly the pani...</td>\n    </tr>\n    <tr>\n      <th>98</th>\n      <td>ABBA</td>\n      <td>The Way Old Friends Do</td>\n      <td>/a/abba/the+way+old+friends+do_20002573.html</td>\n      <td>You and I can share the silence  \nFinding comf...</td>\n    </tr>\n    <tr>\n      <th>99</th>\n      <td>ABBA</td>\n      <td>The Winner Takes It All</td>\n      <td>/a/abba/the+winner+takes+it+all_20002664.html</td>\n      <td>I don't want to talk  \nAbout the things we've ...</td>\n    </tr>\n  </tbody>\n</table>\n<p>100 rows × 4 columns</p>\n</div>"
     },
     "execution_count": 50,
     "metadata": {},
     "output_type": "execute_result"
    }
   ],
   "source": [
    "songs.head(100)\n"
   ],
   "metadata": {
    "collapsed": false,
    "pycharm": {
     "name": "#%%\n"
    }
   }
  },
  {
   "cell_type": "code",
   "execution_count": 62,
   "outputs": [
    {
     "data": {
      "text/plain": "  artist            song                                  link  \\\n2   ABBA  As Good As New  /a/abba/as+good+as+new_20003033.html   \n\n                                                text  \n2  I'll never know why I had to go  \nWhy I had to...  ",
      "text/html": "<div>\n<style scoped>\n    .dataframe tbody tr th:only-of-type {\n        vertical-align: middle;\n    }\n\n    .dataframe tbody tr th {\n        vertical-align: top;\n    }\n\n    .dataframe thead th {\n        text-align: right;\n    }\n</style>\n<table border=\"1\" class=\"dataframe\">\n  <thead>\n    <tr style=\"text-align: right;\">\n      <th></th>\n      <th>artist</th>\n      <th>song</th>\n      <th>link</th>\n      <th>text</th>\n    </tr>\n  </thead>\n  <tbody>\n    <tr>\n      <th>2</th>\n      <td>ABBA</td>\n      <td>As Good As New</td>\n      <td>/a/abba/as+good+as+new_20003033.html</td>\n      <td>I'll never know why I had to go  \nWhy I had to...</td>\n    </tr>\n  </tbody>\n</table>\n</div>"
     },
     "execution_count": 62,
     "metadata": {},
     "output_type": "execute_result"
    }
   ],
   "source": [
    "songs[songs['song'] == 'As Good As New' ]"
   ],
   "metadata": {
    "collapsed": false,
    "pycharm": {
     "name": "#%%\n"
    }
   }
  },
  {
   "cell_type": "code",
   "execution_count": 64,
   "outputs": [
    {
     "data": {
      "text/plain": "2"
     },
     "execution_count": 64,
     "metadata": {},
     "output_type": "execute_result"
    }
   ],
   "source": [
    "songs[songs['song'] == 'As Good As New' ].index[0]"
   ],
   "metadata": {
    "collapsed": false,
    "pycharm": {
     "name": "#%%\n"
    }
   }
  },
  {
   "cell_type": "code",
   "execution_count": 58,
   "outputs": [],
   "source": [
    "def recommended_song(song):\n",
    "    index = songs[songs['song'] == song ].index[0]\n",
    "    long = sorted(list(enumerate(similarity[index])),reverse=True,key = lambda x: x[1])\n",
    "    for i in long[1:10]:\n",
    "        print(songs.iloc[i[0]].song)\n"
   ],
   "metadata": {
    "collapsed": false,
    "pycharm": {
     "name": "#%%\n"
    }
   }
  },
  {
   "cell_type": "code",
   "execution_count": 65,
   "outputs": [
    {
     "name": "stdout",
     "output_type": "stream",
     "text": [
      "King Kong Song\n",
      "Gonna Sing You My Lovesong\n",
      "My Best Friend\n",
      "Love Me Like A Bird Dog\n",
      "I Just Like The Feeling\n",
      "God Must Have Spent A Little More Time On You\n",
      "Late Again\n",
      "Sleigh Ride\n",
      "Crazy Love\n"
     ]
    }
   ],
   "source": [
    "recommended_song('Chiquitita')"
   ],
   "metadata": {
    "collapsed": false,
    "pycharm": {
     "name": "#%%\n"
    }
   }
  },
  {
   "cell_type": "code",
   "execution_count": 53,
   "outputs": [],
   "source": [
    "import pickle\n",
    "\n",
    "pickle.dump(songs, open('songs.pkl', 'wb'))\n",
    "pickle.dump(similarity, open('songs_model.pkl', 'wb'))"
   ],
   "metadata": {
    "collapsed": false,
    "pycharm": {
     "name": "#%%\n"
    }
   }
  }
 ],
 "metadata": {
  "kernelspec": {
   "display_name": "Python 3 (ipykernel)",
   "language": "python",
   "name": "python3"
  },
  "language_info": {
   "codemirror_mode": {
    "name": "ipython",
    "version": 3
   },
   "file_extension": ".py",
   "mimetype": "text/x-python",
   "name": "python",
   "nbconvert_exporter": "python",
   "pygments_lexer": "ipython3",
   "version": "3.10.0"
  }
 },
 "nbformat": 4,
 "nbformat_minor": 5
}